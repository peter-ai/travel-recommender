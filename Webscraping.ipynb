{
 "cells": [
  {
   "cell_type": "code",
   "execution_count": 12,
   "id": "83cdddec-0fb1-400e-896f-d891c614e9fc",
   "metadata": {
    "editable": true,
    "slideshow": {
     "slide_type": ""
    },
    "tags": []
   },
   "outputs": [],
   "source": [
    "from bs4 import BeautifulSoup\n",
    "from urllib.request import urlopen\n",
    "import pandas as pd\n",
    "\n",
    "class WikiTable:\n",
    "    \"\"\"\n",
    "    A class that assists with the scraping and extraction of data from tables embedded within Wikipedia pages.\n",
    "    url : str, a valid url for the target wikiepedia page\n",
    "    category : str, a descriptive category that helps group and classify the type of data being mined\n",
    "    table_num : int, a number identifying the particular data table to scrape which should be >= 1, with 1 indicating the first table encountered when scrolling on the wiki page\n",
    "    \"\"\"\n",
    "    def __init__(self, url, category, table_num):\n",
    "        # Set url and target table we're interested in\n",
    "        self.wiki_url = url\n",
    "        self.wiki_category = category\n",
    "        self.table_num = table_num\n",
    "        self.data_notes = \"\"\n",
    "\n",
    "        # Open wiki page, retrieve HTMl\n",
    "        page_bytes = urlopen(self.wiki_url).read()\n",
    "        page_content = page_bytes.decode(\"utf-8\")\n",
    "        page_html = BeautifulSoup(page_content)\n",
    "\n",
    "        # Extract page title and target table\n",
    "        self.wiki_title = page_html.h1.text\n",
    "        self.wiki_table = page_html.find_all(\"tbody\")[self.table_num - 1]\n",
    "        self.table_data = None\n",
    "\n",
    "    # print string repr of WikiTable object\n",
    "    def __str__(self):\n",
    "        return f\"Table {self.table_num} in the webpage titled: {self.wiki_title}\"\n",
    "\n",
    "    def get_url(self):\n",
    "        return self.wiki_url\n",
    "    \n",
    "    def get_category(self):\n",
    "        return self.wiki_category\n",
    "\n",
    "    def set_notes(self, text):\n",
    "        self.data_notes = text\n",
    "\n",
    "    def show_notes(self):\n",
    "        if self.data_notes != \"\":\n",
    "            print(self.data_notes)\n",
    "        else:\n",
    "            print(\"Notes on data cleaning and treatment are empty\")\n",
    "\n",
    "    def get_table(self):\n",
    "        return self.table_data.copy()\n",
    "    \n",
    "    def __extract_col_data(self, col_item):\n",
    "        return col_item.get_text().rstrip()\n",
    "\n",
    "    def __extract_row_data(self, row_item, country_index):\n",
    "        if \"<td\" in str(row_item):\n",
    "            col_items = row_item.find_all(\"td\")\n",
    "            try:\n",
    "                col_items[country_index-1] = col_items[country_index-1].find_all(\"a\")[0]\n",
    "            except:\n",
    "                print(\"Operation unsuccessful, no <a> tag, likely a non-country encountered\")\n",
    "        else:\n",
    "            col_items = row_item.find_all(\"th\")\n",
    "        return list(map(self.__extract_col_data, col_items))   \n",
    "\n",
    "    def create_table(self, get_data=False, country_index=1):\n",
    "        if country_index < 1:\n",
    "            raise Exception(\"Exception: Country index must be greater than 0\")\n",
    "        \n",
    "        if not isinstance(self.table_data, pd.DataFrame):\n",
    "            tr_list = self.wiki_table.find_all(\"tr\")\n",
    "            table_contents = list(map(self.__extract_row_data, tr_list, [country_index] * len(tr_list)))\n",
    "            self.table_data = pd.DataFrame(\n",
    "                table_contents[1:], \n",
    "                columns=table_contents[0],\n",
    "                index=[row[country_index - 1] for row in table_contents[1:]] \n",
    "            )\n",
    "            self.table_data.drop(\n",
    "                columns=self.table_data.columns[:country_index],\n",
    "                axis=1,\n",
    "                inplace=True\n",
    "            )\n",
    "\n",
    "        if get_data:\n",
    "            return self.get_table()\n",
    "\n",
    "    def update_table(self, new_table):\n",
    "        if isinstance(new_table, pd.DataFrame):\n",
    "            self.table_data = new_table\n",
    "        else:\n",
    "            raise Exception(\"Exception: The updated table must be of type pd.DataFrame.\")\n",
    "\n",
    "    def export_table(self):\n",
    "        if isinstance(self.table_data, pd.DataFrame):\n",
    "            file_name = self.wiki_category + \"__\" + self.wiki_title.replace(\" \", \"_\")  + \".xlsx\"\n",
    "            self.table_data.to_excel(file_name, index=True)\n",
    "        else:\n",
    "            raise Exception(\"Exception: Table contains no data\")    "
   ]
  },
  {
   "cell_type": "markdown",
   "id": "84ee54c9-b2cb-41c1-9b7a-8716b8ad6632",
   "metadata": {},
   "source": [
    "## Demographics"
   ]
  },
  {
   "cell_type": "markdown",
   "id": "6c1a7d65-fb45-4be5-99c6-ac8cd0fc81bd",
   "metadata": {},
   "source": [
    "#### Human sex ratio as defined by the comparative number of males with respect to females in a population\n",
    "Source: https://en.wikipedia.org/wiki/List_of_sovereign_states_by_sex_ratio\n",
    "<br> World Factbook 2020 estimates"
   ]
  },
  {
   "cell_type": "code",
   "execution_count": 7,
   "id": "b9282d29-3c4b-4bc2-bb28-b1ed661948ea",
   "metadata": {},
   "outputs": [],
   "source": [
    "# Create WikiTable object from wikipage\n",
    "page_url = \"https://en.wikipedia.org/wiki/List_of_sovereign_states_by_sex_ratio\"\n",
    "category = \"Demographics\"\n",
    "table_num = 1\n",
    "wiki_page = WikiTable(*[page_url, category, table_num])\n",
    "\n",
    "# Preliminary cleaning\n",
    "wiki_page.set_notes(\"-1 indicates that the entire population was male\")\n",
    "table = wiki_page.create_table(get_data=True, country_index=1)\n",
    "table.loc[\"Falkland Islands\"] = \"1.12\"\n",
    "table.replace(to_replace=[\"--\", \"All male\"], value=\"-1\", inplace=True)\n",
    "table = table.astype(float, copy=True)\n",
    "\n",
    "# Save data\n",
    "wiki_page.update_table(table)\n",
    "wiki_page.export_table()"
   ]
  },
  {
   "cell_type": "markdown",
   "id": "ec9d4b54-115e-4875-a44a-bb26b8361d0f",
   "metadata": {},
   "source": [
    "#### Percent of population living on less than \\\\$1.90, \\\\$3.20 and \\\\$5.50 a day\r\n",
    "Source: https://en.wikipedia.org/wiki/List_of_sovereign_states_by_percentage_of_population_living_in_povert\n",
    "<br>International (PPP) dollars as per the World Bank, the World Poverty Clock, and the Our World in Data.s"
   ]
  },
  {
   "cell_type": "code",
   "execution_count": 34,
   "id": "6c0dfdad-2600-40e4-a434-979ed6a4f31a",
   "metadata": {},
   "outputs": [],
   "source": [
    "# Create WikiTable object from wikipage\n",
    "page_url = \"https://en.wikipedia.org/wiki/List_of_sovereign_states_by_percentage_of_population_living_in_poverty\"\n",
    "category = \"Demographics\"\n",
    "table_num = 2\n",
    "wiki_page = WikiTable(*[page_url, category, table_num])\n",
    "\n",
    "# Preliminary cleaning\n",
    "wiki_page.set_notes(\"N/A\")\n",
    "table = wiki_page.create_table(get_data=True, country_index=1)\n",
    "table.drop(\n",
    "    columns=table.columns[-2:],\n",
    "    axis=1,\n",
    "    inplace=True\n",
    ")\n",
    "table.replace(to_replace=[\"%\"], value=\"\", inplace=True, regex=True)\n",
    "table = table.astype(float, copy=True) / 100\n",
    "\n",
    "# Save data\n",
    "wiki_page.update_table(table)\n",
    "wiki_page.export_table()"
   ]
  },
  {
   "cell_type": "markdown",
   "id": "70d32526-b559-458b-aedf-d02453c2b992",
   "metadata": {},
   "source": [
    "#### Urbanization by sovereign state\r\n",
    "Source: https://en.wikipedia.org/wiki/Urbanization_by_sovereign_state\n",
    "<br>There are two measures of the degree of urbanization of a population. The first, urban population, describes the percentage of the total population living in urban areas, as defined by the countr. The second measure, rate of urbanization, describes the projected average rate of change of the size of the urban population over the given period of timey"
   ]
  },
  {
   "cell_type": "code",
   "execution_count": 93,
   "id": "fc802642-4d7d-4ea6-ba10-8a60cb87c6ac",
   "metadata": {},
   "outputs": [
    {
     "name": "stdout",
     "output_type": "stream",
     "text": [
      "Operation unsuccessful, likely a non-country encountered\n"
     ]
    }
   ],
   "source": [
    "# Create WikiTable object from wikipage\n",
    "page_url = \"https://en.wikipedia.org/wiki/Urbanization_by_sovereign_state\"\n",
    "category = \"Demographics\"\n",
    "table_num = 1\n",
    "wiki_page = WikiTable(*[page_url, category, table_num])\n",
    "\n",
    "# Preliminary cleaning\n",
    "wiki_page.set_notes(\"There are two measures of the degree of urbanization of a population. The first, urban population, describes the percentage of the total population living in urban areas, as defined by the country. The second measure, rate of urbanization, describes the projected average rate of change of the size of the urban population over the given period of time.\")\n",
    "table = wiki_page.create_table(get_data=True, country_index=2)\n",
    "table.drop(\n",
    "    columns=[\"Date\", \"Period\"],\n",
    "    axis=1,\n",
    "    inplace=True\n",
    ")\n",
    "table.replace(to_replace=[\"\\\\u2212\",\"\\\\u2013\"], value=\"-\", inplace=True, regex=True)\n",
    "table.replace(to_replace=[\"NA\", \"-\", \"\\\\u2212\", \"\\\\u2013\"], value=None, inplace=True)\n",
    "table.replace(to_replace=[\"\\[clarification needed\\]\", \"\\[2\\]\", \"\\[3\\]\"], value=\"\", inplace=True, regex=True)\n",
    "table = table.astype(float, copy=True)\n",
    "\n",
    "# Save data\n",
    "wiki_page.update_table(table)\n",
    "wiki_page.export_table()"
   ]
  },
  {
   "cell_type": "markdown",
   "id": "a27e81b2-d00f-44c0-b661-95cf9a552c39",
   "metadata": {},
   "source": [
    "#### List of countries by population (United Nations)\n",
    "Source: https://en.wikipedia.org/wiki/List_of_countries_by_population_(United_Nations)\n",
    "<br> United Nations Estimates\n",
    "<br> Manual scrape"
   ]
  },
  {
   "cell_type": "markdown",
   "id": "9d4c2465-6d98-42c0-876e-9904cd93f382",
   "metadata": {},
   "source": [
    "## Religious Info"
   ]
  },
  {
   "cell_type": "markdown",
   "id": "71f3bd9d-af48-49f8-ab40-17e0738298ed",
   "metadata": {},
   "source": [
    "#### Importance of religion by country\n",
    "Source: https://en.wikipedia.org/wiki/Importance_of_religion_by_country\n",
    "<br> 2009 Gallup survey"
   ]
  },
  {
   "cell_type": "code",
   "execution_count": 24,
   "id": "a5d333b1-f722-42eb-8db6-2d9216e331e0",
   "metadata": {},
   "outputs": [],
   "source": [
    "# Create WikiTable object from wikipage\n",
    "page_url = \"https://en.wikipedia.org/wiki/Importance_of_religion_by_country\"\n",
    "category = \"Religion\"\n",
    "table_num = 5\n",
    "wiki_page = WikiTable(*[page_url, category, table_num])\n",
    "\n",
    "# Preliminary cleaning\n",
    "wiki_page.set_notes('Percentages for \"yes\" and \"no\" answers are listed below; they often do not add up to 100% because some answered \"don\\'t know\" or did not answer.')\n",
    "table = wiki_page.create_table(get_data=True, country_index=2)\n",
    "table.replace(to_replace=[\"\\[[0-9]\\]\", \"%\"], value=\"\", inplace=True, regex=True)\n",
    "table = table.astype(float, copy=True) / 100\n",
    "\n",
    "# Save data\n",
    "wiki_page.update_table(table)\n",
    "wiki_page.export_table()"
   ]
  },
  {
   "cell_type": "markdown",
   "id": "df048de2-5dd9-424c-8fcb-fe84e7000027",
   "metadata": {},
   "source": [
    "## Food and Consumption Info"
   ]
  },
  {
   "cell_type": "code",
   "execution_count": 48,
   "id": "bfc85c08-bd59-4e94-a1a3-ff6337052619",
   "metadata": {},
   "outputs": [],
   "source": [
    "pages = 5\n",
    "page_urls = [\n",
    "    \"https://en.wikipedia.org/wiki/Vegetarianism_by_country\",\n",
    "    \"https://en.wikipedia.org/wiki/List_of_countries_by_meat_consumption\",\n",
    "    \"https://en.wikipedia.org/wiki/List_of_countries_by_alcohol_consumption_per_capita\",\n",
    "    \"https://en.wikipedia.org/wiki/List_of_countries_by_tea_consumption_per_capita\",\n",
    "    \"https://en.wikipedia.org/wiki/Tobacco_consumption_by_country\"\n",
    "]\n",
    "categories = [\"Food\"] * pages\n",
    "table_numbers = [\n",
    "    1, \n",
    "    2, \n",
    "    3, \n",
    "    1, \n",
    "    1\n",
    "]\n",
    "country_indices = [\n",
    "    1, \n",
    "    1, \n",
    "    1, \n",
    "    2, \n",
    "    1\n",
    "]"
   ]
  },
  {
   "cell_type": "code",
   "execution_count": 49,
   "id": "91ed6162-9aa9-40c7-9963-ceac992ed1d9",
   "metadata": {},
   "outputs": [
    {
     "name": "stdout",
     "output_type": "stream",
     "text": [
      "Starting with Page 1\n",
      "Starting with Page 2\n",
      "Starting with Page 3\n",
      "Starting with Page 4\n",
      "Starting with Page 5\n"
     ]
    }
   ],
   "source": [
    "wiki_tables = []\n",
    "for page in range(pages):\n",
    "    print(f\"Starting with Page {page+1}\")\n",
    "    wiki_page = WikiTable(page_urls[page], categories[page], table_numbers[page])\n",
    "    table = wiki_page.create_table(get_data=True, country_index=country_indices[page])    \n",
    "    wiki_page.export_table()"
   ]
  },
  {
   "cell_type": "markdown",
   "id": "53984984-e369-45ad-b606-03046971ea4b",
   "metadata": {},
   "source": [
    "## Transportation Info"
   ]
  },
  {
   "cell_type": "code",
   "execution_count": 52,
   "id": "acc0f5e1-6840-4dd2-8362-a8455bdc864f",
   "metadata": {},
   "outputs": [],
   "source": [
    "pages = 3\n",
    "page_urls = [\n",
    "    \"https://en.wikipedia.org/wiki/List_of_countries_by_rail_transport_network_size\",\n",
    "    \"https://en.wikipedia.org/wiki/List_of_countries_by_rail_usage\",\n",
    "    \"https://en.wikipedia.org/wiki/List_of_countries_by_vehicles_per_capita\",\n",
    "]\n",
    "categories = [\"Transportation\"] * pages\n",
    "table_numbers = [\n",
    "    1, \n",
    "    5, \n",
    "    1\n",
    "]\n",
    "country_indices = [\n",
    "    1, \n",
    "    2, \n",
    "    1\n",
    "]"
   ]
  },
  {
   "cell_type": "code",
   "execution_count": 53,
   "id": "a61ae7fd-e093-470e-9a89-00c97d050e52",
   "metadata": {},
   "outputs": [
    {
     "name": "stdout",
     "output_type": "stream",
     "text": [
      "Starting with Page 1\n"
     ]
    }
   ],
   "source": [
    "wiki_tables = []\n",
    "for page in range(pages):\n",
    "    print(f\"Starting with Page {page+1}\")\n",
    "    wiki_page = WikiTable(page_urls[page], categories[page], table_numbers[page])\n",
    "    table = wiki_page.create_table(get_data=True, country_index=country_indices[page])    \n",
    "    wiki_page.export_table()"
   ]
  },
  {
   "cell_type": "markdown",
   "id": "db5b8750-3d05-4ac5-86f8-533ea40c4d66",
   "metadata": {},
   "source": [
    "## Climate Info"
   ]
  },
  {
   "cell_type": "code",
   "execution_count": 10,
   "id": "e2f7d057-4efe-4b80-a647-ffb8ed9c6c34",
   "metadata": {},
   "outputs": [],
   "source": [
    "pages = 2\n",
    "page_urls = [\n",
    "    \"https://en.wikipedia.org/wiki/List_of_countries_by_average_annual_precipitation\",\n",
    "    \"https://listfist.com/list-of-countries-by-average-temperature\"\n",
    "]\n",
    "categories = [\"Climate\"] * pages\n",
    "table_numbers = [\n",
    "    1,\n",
    "    1\n",
    "]\n",
    "country_indices = [\n",
    "    2,\n",
    "    3\n",
    "]"
   ]
  },
  {
   "cell_type": "code",
   "execution_count": null,
   "id": "e51a543a-8169-41bc-b9ed-4555f71837c3",
   "metadata": {},
   "outputs": [],
   "source": [
    "wiki_tables = []\n",
    "for page in range(pages):\n",
    "    print(f\"Starting with Page {page+1}\")\n",
    "    wiki_page = WikiTable(page_urls[page], categories[page], table_numbers[page])\n",
    "    table = wiki_page.create_table(get_data=True, country_index=country_indices[page])    \n",
    "    wiki_page.export_table()"
   ]
  },
  {
   "cell_type": "code",
   "execution_count": null,
   "id": "112a7ac1-c3f9-4fee-822e-9354570e1659",
   "metadata": {},
   "outputs": [],
   "source": []
  }
 ],
 "metadata": {
  "kernelspec": {
   "display_name": "Python 3 (ipykernel)",
   "language": "python",
   "name": "python3"
  },
  "language_info": {
   "codemirror_mode": {
    "name": "ipython",
    "version": 3
   },
   "file_extension": ".py",
   "mimetype": "text/x-python",
   "name": "python",
   "nbconvert_exporter": "python",
   "pygments_lexer": "ipython3",
   "version": "3.11.3"
  }
 },
 "nbformat": 4,
 "nbformat_minor": 5
}
